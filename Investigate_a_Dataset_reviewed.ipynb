{
 "cells": [
  {
   "cell_type": "markdown",
   "metadata": {},
   "source": [
    "\n",
    "\n",
    "# Project: Investigate Movie Database\n",
    "\n",
    "## Table of Contents\n",
    "<ul>\n",
    "<li><a href=\"#intro\">Introduction</a></li>\n",
    "<li><a href=\"#wrangling\">Data Wrangling</a></li>\n",
    "<li><a href=\"#eda\">Exploratory Data Analysis</a></li>\n",
    "<li><a href=\"#conclusions\">Conclusions</a></li>\n",
    "</ul>"
   ]
  },
  {
   "cell_type": "markdown",
   "metadata": {},
   "source": [
    "<a id='intro'></a>\n",
    "## Introduction\n",
    "\n",
    "<ul>\n",
    "    <li>In this investigation project, I will make some researches on movie database data.</li>\n",
    "    <li>Before doing that, I will start with wrangling on data to understand its structure.</li>\n",
    "    <li>Afterwards, I will define some questions to find related answers according to research.</li>\n",
    "    <li>Then I will clean data and pass to explore data.</li>\n",
    "    <li>At the end, I will try to share my findings according to researchs I made.</li>\n",
    "</ul>"
   ]
  },
  {
   "cell_type": "code",
   "execution_count": 2,
   "metadata": {
    "collapsed": true
   },
   "outputs": [],
   "source": [
    "# Use this cell to set up import statements for all of the packages that you\n",
    "#   plan to use.\n",
    "\n",
    "# Remember to include a 'magic word' so that your visualizations are plotted\n",
    "#   inline with the notebook. See this page for more:\n",
    "#   http://ipython.readthedocs.io/en/stable/interactive/magics.html\n",
    "\n",
    "import pandas as pd\n",
    "% matplotlib inline"
   ]
  },
  {
   "cell_type": "markdown",
   "metadata": {},
   "source": [
    "<a id='wrangling'></a>\n",
    "## Data Wrangling\n",
    "\n",
    "> **Tip**: In this section of the report, you will load in the data, check for cleanliness, and then trim and clean your dataset for analysis. Make sure that you document your steps carefully and justify your cleaning decisions.\n",
    "\n",
    "### Some Questions to ask:\n",
    "<ul>\n",
    "    <li> Which actor/actress has played at most?</li>\n",
    "    <li> Which actors/actress has played at which year most?</li>\n",
    "    <li> Which actor/actress has worked with which director at most?</li>\n",
    "    <li> Which year has most of the productions?</li>\n",
    "    <li> Which genres have higher votes?</li>\n",
    "</ul>\n",
    "\n",
    "### General Properties\n",
    "\n",
    "**>** Due to irrelevancy, I have eliminated **\"id\"** and **\"imdb_id\"** columns from my dataframe"
   ]
  },
  {
   "cell_type": "code",
   "execution_count": 3,
   "metadata": {},
   "outputs": [
    {
     "data": {
      "text/html": [
       "<div>\n",
       "<style scoped>\n",
       "    .dataframe tbody tr th:only-of-type {\n",
       "        vertical-align: middle;\n",
       "    }\n",
       "\n",
       "    .dataframe tbody tr th {\n",
       "        vertical-align: top;\n",
       "    }\n",
       "\n",
       "    .dataframe thead th {\n",
       "        text-align: right;\n",
       "    }\n",
       "</style>\n",
       "<table border=\"1\" class=\"dataframe\">\n",
       "  <thead>\n",
       "    <tr style=\"text-align: right;\">\n",
       "      <th></th>\n",
       "      <th>popularity</th>\n",
       "      <th>budget</th>\n",
       "      <th>revenue</th>\n",
       "      <th>original_title</th>\n",
       "      <th>cast</th>\n",
       "      <th>homepage</th>\n",
       "      <th>director</th>\n",
       "      <th>tagline</th>\n",
       "      <th>keywords</th>\n",
       "      <th>overview</th>\n",
       "      <th>runtime</th>\n",
       "      <th>genres</th>\n",
       "      <th>production_companies</th>\n",
       "      <th>release_date</th>\n",
       "      <th>vote_count</th>\n",
       "      <th>vote_average</th>\n",
       "      <th>release_year</th>\n",
       "      <th>budget_adj</th>\n",
       "      <th>revenue_adj</th>\n",
       "    </tr>\n",
       "  </thead>\n",
       "  <tbody>\n",
       "    <tr>\n",
       "      <th>0</th>\n",
       "      <td>32.985763</td>\n",
       "      <td>150000000</td>\n",
       "      <td>1513528810</td>\n",
       "      <td>Jurassic World</td>\n",
       "      <td>Chris Pratt|Bryce Dallas Howard|Irrfan Khan|Vi...</td>\n",
       "      <td>http://www.jurassicworld.com/</td>\n",
       "      <td>Colin Trevorrow</td>\n",
       "      <td>The park is open.</td>\n",
       "      <td>monster|dna|tyrannosaurus rex|velociraptor|island</td>\n",
       "      <td>Twenty-two years after the events of Jurassic ...</td>\n",
       "      <td>124</td>\n",
       "      <td>Action|Adventure|Science Fiction|Thriller</td>\n",
       "      <td>Universal Studios|Amblin Entertainment|Legenda...</td>\n",
       "      <td>6/9/15</td>\n",
       "      <td>5562</td>\n",
       "      <td>6.5</td>\n",
       "      <td>2015</td>\n",
       "      <td>1.379999e+08</td>\n",
       "      <td>1.392446e+09</td>\n",
       "    </tr>\n",
       "    <tr>\n",
       "      <th>1</th>\n",
       "      <td>28.419936</td>\n",
       "      <td>150000000</td>\n",
       "      <td>378436354</td>\n",
       "      <td>Mad Max: Fury Road</td>\n",
       "      <td>Tom Hardy|Charlize Theron|Hugh Keays-Byrne|Nic...</td>\n",
       "      <td>http://www.madmaxmovie.com/</td>\n",
       "      <td>George Miller</td>\n",
       "      <td>What a Lovely Day.</td>\n",
       "      <td>future|chase|post-apocalyptic|dystopia|australia</td>\n",
       "      <td>An apocalyptic story set in the furthest reach...</td>\n",
       "      <td>120</td>\n",
       "      <td>Action|Adventure|Science Fiction|Thriller</td>\n",
       "      <td>Village Roadshow Pictures|Kennedy Miller Produ...</td>\n",
       "      <td>5/13/15</td>\n",
       "      <td>6185</td>\n",
       "      <td>7.1</td>\n",
       "      <td>2015</td>\n",
       "      <td>1.379999e+08</td>\n",
       "      <td>3.481613e+08</td>\n",
       "    </tr>\n",
       "    <tr>\n",
       "      <th>2</th>\n",
       "      <td>13.112507</td>\n",
       "      <td>110000000</td>\n",
       "      <td>295238201</td>\n",
       "      <td>Insurgent</td>\n",
       "      <td>Shailene Woodley|Theo James|Kate Winslet|Ansel...</td>\n",
       "      <td>http://www.thedivergentseries.movie/#insurgent</td>\n",
       "      <td>Robert Schwentke</td>\n",
       "      <td>One Choice Can Destroy You</td>\n",
       "      <td>based on novel|revolution|dystopia|sequel|dyst...</td>\n",
       "      <td>Beatrice Prior must confront her inner demons ...</td>\n",
       "      <td>119</td>\n",
       "      <td>Adventure|Science Fiction|Thriller</td>\n",
       "      <td>Summit Entertainment|Mandeville Films|Red Wago...</td>\n",
       "      <td>3/18/15</td>\n",
       "      <td>2480</td>\n",
       "      <td>6.3</td>\n",
       "      <td>2015</td>\n",
       "      <td>1.012000e+08</td>\n",
       "      <td>2.716190e+08</td>\n",
       "    </tr>\n",
       "    <tr>\n",
       "      <th>3</th>\n",
       "      <td>11.173104</td>\n",
       "      <td>200000000</td>\n",
       "      <td>2068178225</td>\n",
       "      <td>Star Wars: The Force Awakens</td>\n",
       "      <td>Harrison Ford|Mark Hamill|Carrie Fisher|Adam D...</td>\n",
       "      <td>http://www.starwars.com/films/star-wars-episod...</td>\n",
       "      <td>J.J. Abrams</td>\n",
       "      <td>Every generation has a story.</td>\n",
       "      <td>android|spaceship|jedi|space opera|3d</td>\n",
       "      <td>Thirty years after defeating the Galactic Empi...</td>\n",
       "      <td>136</td>\n",
       "      <td>Action|Adventure|Science Fiction|Fantasy</td>\n",
       "      <td>Lucasfilm|Truenorth Productions|Bad Robot</td>\n",
       "      <td>12/15/15</td>\n",
       "      <td>5292</td>\n",
       "      <td>7.5</td>\n",
       "      <td>2015</td>\n",
       "      <td>1.839999e+08</td>\n",
       "      <td>1.902723e+09</td>\n",
       "    </tr>\n",
       "    <tr>\n",
       "      <th>4</th>\n",
       "      <td>9.335014</td>\n",
       "      <td>190000000</td>\n",
       "      <td>1506249360</td>\n",
       "      <td>Furious 7</td>\n",
       "      <td>Vin Diesel|Paul Walker|Jason Statham|Michelle ...</td>\n",
       "      <td>http://www.furious7.com/</td>\n",
       "      <td>James Wan</td>\n",
       "      <td>Vengeance Hits Home</td>\n",
       "      <td>car race|speed|revenge|suspense|car</td>\n",
       "      <td>Deckard Shaw seeks revenge against Dominic Tor...</td>\n",
       "      <td>137</td>\n",
       "      <td>Action|Crime|Thriller</td>\n",
       "      <td>Universal Pictures|Original Film|Media Rights ...</td>\n",
       "      <td>4/1/15</td>\n",
       "      <td>2947</td>\n",
       "      <td>7.3</td>\n",
       "      <td>2015</td>\n",
       "      <td>1.747999e+08</td>\n",
       "      <td>1.385749e+09</td>\n",
       "    </tr>\n",
       "  </tbody>\n",
       "</table>\n",
       "</div>"
      ],
      "text/plain": [
       "   popularity     budget     revenue                original_title  \\\n",
       "0   32.985763  150000000  1513528810                Jurassic World   \n",
       "1   28.419936  150000000   378436354            Mad Max: Fury Road   \n",
       "2   13.112507  110000000   295238201                     Insurgent   \n",
       "3   11.173104  200000000  2068178225  Star Wars: The Force Awakens   \n",
       "4    9.335014  190000000  1506249360                     Furious 7   \n",
       "\n",
       "                                                cast  \\\n",
       "0  Chris Pratt|Bryce Dallas Howard|Irrfan Khan|Vi...   \n",
       "1  Tom Hardy|Charlize Theron|Hugh Keays-Byrne|Nic...   \n",
       "2  Shailene Woodley|Theo James|Kate Winslet|Ansel...   \n",
       "3  Harrison Ford|Mark Hamill|Carrie Fisher|Adam D...   \n",
       "4  Vin Diesel|Paul Walker|Jason Statham|Michelle ...   \n",
       "\n",
       "                                            homepage          director  \\\n",
       "0                      http://www.jurassicworld.com/   Colin Trevorrow   \n",
       "1                        http://www.madmaxmovie.com/     George Miller   \n",
       "2     http://www.thedivergentseries.movie/#insurgent  Robert Schwentke   \n",
       "3  http://www.starwars.com/films/star-wars-episod...       J.J. Abrams   \n",
       "4                           http://www.furious7.com/         James Wan   \n",
       "\n",
       "                         tagline  \\\n",
       "0              The park is open.   \n",
       "1             What a Lovely Day.   \n",
       "2     One Choice Can Destroy You   \n",
       "3  Every generation has a story.   \n",
       "4            Vengeance Hits Home   \n",
       "\n",
       "                                            keywords  \\\n",
       "0  monster|dna|tyrannosaurus rex|velociraptor|island   \n",
       "1   future|chase|post-apocalyptic|dystopia|australia   \n",
       "2  based on novel|revolution|dystopia|sequel|dyst...   \n",
       "3              android|spaceship|jedi|space opera|3d   \n",
       "4                car race|speed|revenge|suspense|car   \n",
       "\n",
       "                                            overview  runtime  \\\n",
       "0  Twenty-two years after the events of Jurassic ...      124   \n",
       "1  An apocalyptic story set in the furthest reach...      120   \n",
       "2  Beatrice Prior must confront her inner demons ...      119   \n",
       "3  Thirty years after defeating the Galactic Empi...      136   \n",
       "4  Deckard Shaw seeks revenge against Dominic Tor...      137   \n",
       "\n",
       "                                      genres  \\\n",
       "0  Action|Adventure|Science Fiction|Thriller   \n",
       "1  Action|Adventure|Science Fiction|Thriller   \n",
       "2         Adventure|Science Fiction|Thriller   \n",
       "3   Action|Adventure|Science Fiction|Fantasy   \n",
       "4                      Action|Crime|Thriller   \n",
       "\n",
       "                                production_companies release_date  vote_count  \\\n",
       "0  Universal Studios|Amblin Entertainment|Legenda...       6/9/15        5562   \n",
       "1  Village Roadshow Pictures|Kennedy Miller Produ...      5/13/15        6185   \n",
       "2  Summit Entertainment|Mandeville Films|Red Wago...      3/18/15        2480   \n",
       "3          Lucasfilm|Truenorth Productions|Bad Robot     12/15/15        5292   \n",
       "4  Universal Pictures|Original Film|Media Rights ...       4/1/15        2947   \n",
       "\n",
       "   vote_average  release_year    budget_adj   revenue_adj  \n",
       "0           6.5          2015  1.379999e+08  1.392446e+09  \n",
       "1           7.1          2015  1.379999e+08  3.481613e+08  \n",
       "2           6.3          2015  1.012000e+08  2.716190e+08  \n",
       "3           7.5          2015  1.839999e+08  1.902723e+09  \n",
       "4           7.3          2015  1.747999e+08  1.385749e+09  "
      ]
     },
     "execution_count": 3,
     "metadata": {},
     "output_type": "execute_result"
    }
   ],
   "source": [
    "# Load your data and print out a few lines. Perform operations to inspect data\n",
    "#   types and look for instances of missing or possibly errant data.\n",
    "\n",
    "df = pd.read_csv('tmdb-movies.csv', usecols=range(2,21))\n",
    "df.head()"
   ]
  },
  {
   "cell_type": "markdown",
   "metadata": {},
   "source": [
    "**>** As mentioned in dataset options, **\"genres\", \"cast\", \"keywords\"  and \"production_companies\"** columns include related data which are seperated with \"|\""
   ]
  },
  {
   "cell_type": "code",
   "execution_count": 3,
   "metadata": {},
   "outputs": [
    {
     "name": "stdout",
     "output_type": "stream",
     "text": [
      "<class 'pandas.core.frame.DataFrame'>\n",
      "RangeIndex: 10866 entries, 0 to 10865\n",
      "Data columns (total 19 columns):\n",
      "popularity              10866 non-null float64\n",
      "budget                  10866 non-null int64\n",
      "revenue                 10866 non-null int64\n",
      "original_title          10866 non-null object\n",
      "cast                    10790 non-null object\n",
      "homepage                2936 non-null object\n",
      "director                10822 non-null object\n",
      "tagline                 8042 non-null object\n",
      "keywords                9373 non-null object\n",
      "overview                10862 non-null object\n",
      "runtime                 10866 non-null int64\n",
      "genres                  10843 non-null object\n",
      "production_companies    9836 non-null object\n",
      "release_date            10866 non-null object\n",
      "vote_count              10866 non-null int64\n",
      "vote_average            10866 non-null float64\n",
      "release_year            10866 non-null int64\n",
      "budget_adj              10866 non-null float64\n",
      "revenue_adj             10866 non-null float64\n",
      "dtypes: float64(4), int64(5), object(10)\n",
      "memory usage: 1.6+ MB\n"
     ]
    }
   ],
   "source": [
    "df.info()"
   ]
  },
  {
   "cell_type": "markdown",
   "metadata": {},
   "source": [
    "**>** It seems that there are **approximately 8000 records** having no homepages.\n"
   ]
  },
  {
   "cell_type": "code",
   "execution_count": 4,
   "metadata": {},
   "outputs": [
    {
     "data": {
      "text/plain": [
       "popularity              float64\n",
       "budget                    int64\n",
       "revenue                   int64\n",
       "original_title           object\n",
       "cast                     object\n",
       "homepage                 object\n",
       "director                 object\n",
       "tagline                  object\n",
       "keywords                 object\n",
       "overview                 object\n",
       "runtime                   int64\n",
       "genres                   object\n",
       "production_companies     object\n",
       "release_date             object\n",
       "vote_count                int64\n",
       "vote_average            float64\n",
       "release_year              int64\n",
       "budget_adj              float64\n",
       "revenue_adj             float64\n",
       "dtype: object"
      ]
     },
     "execution_count": 4,
     "metadata": {},
     "output_type": "execute_result"
    }
   ],
   "source": [
    "df.dtypes"
   ]
  },
  {
   "cell_type": "markdown",
   "metadata": {},
   "source": [
    "**>** There are 10 string fields and 9 numerical fields"
   ]
  },
  {
   "cell_type": "code",
   "execution_count": 5,
   "metadata": {},
   "outputs": [
    {
     "data": {
      "text/plain": [
       "popularity              10814\n",
       "budget                    557\n",
       "revenue                  4702\n",
       "original_title          10571\n",
       "cast                    10719\n",
       "homepage                 2896\n",
       "director                 5067\n",
       "tagline                  7997\n",
       "keywords                 8804\n",
       "overview                10847\n",
       "runtime                   247\n",
       "genres                   2039\n",
       "production_companies     7445\n",
       "release_date             5909\n",
       "vote_count               1289\n",
       "vote_average               72\n",
       "release_year               56\n",
       "budget_adj               2614\n",
       "revenue_adj              4840\n",
       "dtype: int64"
      ]
     },
     "execution_count": 5,
     "metadata": {},
     "output_type": "execute_result"
    }
   ],
   "source": [
    "df.nunique()"
   ]
  },
  {
   "cell_type": "markdown",
   "metadata": {},
   "source": [
    "<ul>\n",
    "    <li>It seems that there are **56 years of releases** (release_date is a non-null field)</li>\n",
    "</ul>"
   ]
  },
  {
   "cell_type": "code",
   "execution_count": 6,
   "metadata": {},
   "outputs": [
    {
     "data": {
      "text/html": [
       "<div>\n",
       "<style scoped>\n",
       "    .dataframe tbody tr th:only-of-type {\n",
       "        vertical-align: middle;\n",
       "    }\n",
       "\n",
       "    .dataframe tbody tr th {\n",
       "        vertical-align: top;\n",
       "    }\n",
       "\n",
       "    .dataframe thead th {\n",
       "        text-align: right;\n",
       "    }\n",
       "</style>\n",
       "<table border=\"1\" class=\"dataframe\">\n",
       "  <thead>\n",
       "    <tr style=\"text-align: right;\">\n",
       "      <th></th>\n",
       "      <th>popularity</th>\n",
       "      <th>budget</th>\n",
       "      <th>revenue</th>\n",
       "      <th>runtime</th>\n",
       "      <th>vote_count</th>\n",
       "      <th>vote_average</th>\n",
       "      <th>release_year</th>\n",
       "      <th>budget_adj</th>\n",
       "      <th>revenue_adj</th>\n",
       "    </tr>\n",
       "  </thead>\n",
       "  <tbody>\n",
       "    <tr>\n",
       "      <th>count</th>\n",
       "      <td>10866.000000</td>\n",
       "      <td>1.086600e+04</td>\n",
       "      <td>1.086600e+04</td>\n",
       "      <td>10866.000000</td>\n",
       "      <td>10866.000000</td>\n",
       "      <td>10866.000000</td>\n",
       "      <td>10866.000000</td>\n",
       "      <td>1.086600e+04</td>\n",
       "      <td>1.086600e+04</td>\n",
       "    </tr>\n",
       "    <tr>\n",
       "      <th>mean</th>\n",
       "      <td>0.646441</td>\n",
       "      <td>1.462570e+07</td>\n",
       "      <td>3.982332e+07</td>\n",
       "      <td>102.070863</td>\n",
       "      <td>217.389748</td>\n",
       "      <td>5.974922</td>\n",
       "      <td>2001.322658</td>\n",
       "      <td>1.755104e+07</td>\n",
       "      <td>5.136436e+07</td>\n",
       "    </tr>\n",
       "    <tr>\n",
       "      <th>std</th>\n",
       "      <td>1.000185</td>\n",
       "      <td>3.091321e+07</td>\n",
       "      <td>1.170035e+08</td>\n",
       "      <td>31.381405</td>\n",
       "      <td>575.619058</td>\n",
       "      <td>0.935142</td>\n",
       "      <td>12.812941</td>\n",
       "      <td>3.430616e+07</td>\n",
       "      <td>1.446325e+08</td>\n",
       "    </tr>\n",
       "    <tr>\n",
       "      <th>min</th>\n",
       "      <td>0.000065</td>\n",
       "      <td>0.000000e+00</td>\n",
       "      <td>0.000000e+00</td>\n",
       "      <td>0.000000</td>\n",
       "      <td>10.000000</td>\n",
       "      <td>1.500000</td>\n",
       "      <td>1960.000000</td>\n",
       "      <td>0.000000e+00</td>\n",
       "      <td>0.000000e+00</td>\n",
       "    </tr>\n",
       "    <tr>\n",
       "      <th>25%</th>\n",
       "      <td>0.207583</td>\n",
       "      <td>0.000000e+00</td>\n",
       "      <td>0.000000e+00</td>\n",
       "      <td>90.000000</td>\n",
       "      <td>17.000000</td>\n",
       "      <td>5.400000</td>\n",
       "      <td>1995.000000</td>\n",
       "      <td>0.000000e+00</td>\n",
       "      <td>0.000000e+00</td>\n",
       "    </tr>\n",
       "    <tr>\n",
       "      <th>50%</th>\n",
       "      <td>0.383856</td>\n",
       "      <td>0.000000e+00</td>\n",
       "      <td>0.000000e+00</td>\n",
       "      <td>99.000000</td>\n",
       "      <td>38.000000</td>\n",
       "      <td>6.000000</td>\n",
       "      <td>2006.000000</td>\n",
       "      <td>0.000000e+00</td>\n",
       "      <td>0.000000e+00</td>\n",
       "    </tr>\n",
       "    <tr>\n",
       "      <th>75%</th>\n",
       "      <td>0.713817</td>\n",
       "      <td>1.500000e+07</td>\n",
       "      <td>2.400000e+07</td>\n",
       "      <td>111.000000</td>\n",
       "      <td>145.750000</td>\n",
       "      <td>6.600000</td>\n",
       "      <td>2011.000000</td>\n",
       "      <td>2.085325e+07</td>\n",
       "      <td>3.369710e+07</td>\n",
       "    </tr>\n",
       "    <tr>\n",
       "      <th>max</th>\n",
       "      <td>32.985763</td>\n",
       "      <td>4.250000e+08</td>\n",
       "      <td>2.781506e+09</td>\n",
       "      <td>900.000000</td>\n",
       "      <td>9767.000000</td>\n",
       "      <td>9.200000</td>\n",
       "      <td>2015.000000</td>\n",
       "      <td>4.250000e+08</td>\n",
       "      <td>2.827124e+09</td>\n",
       "    </tr>\n",
       "  </tbody>\n",
       "</table>\n",
       "</div>"
      ],
      "text/plain": [
       "         popularity        budget       revenue       runtime    vote_count  \\\n",
       "count  10866.000000  1.086600e+04  1.086600e+04  10866.000000  10866.000000   \n",
       "mean       0.646441  1.462570e+07  3.982332e+07    102.070863    217.389748   \n",
       "std        1.000185  3.091321e+07  1.170035e+08     31.381405    575.619058   \n",
       "min        0.000065  0.000000e+00  0.000000e+00      0.000000     10.000000   \n",
       "25%        0.207583  0.000000e+00  0.000000e+00     90.000000     17.000000   \n",
       "50%        0.383856  0.000000e+00  0.000000e+00     99.000000     38.000000   \n",
       "75%        0.713817  1.500000e+07  2.400000e+07    111.000000    145.750000   \n",
       "max       32.985763  4.250000e+08  2.781506e+09    900.000000   9767.000000   \n",
       "\n",
       "       vote_average  release_year    budget_adj   revenue_adj  \n",
       "count  10866.000000  10866.000000  1.086600e+04  1.086600e+04  \n",
       "mean       5.974922   2001.322658  1.755104e+07  5.136436e+07  \n",
       "std        0.935142     12.812941  3.430616e+07  1.446325e+08  \n",
       "min        1.500000   1960.000000  0.000000e+00  0.000000e+00  \n",
       "25%        5.400000   1995.000000  0.000000e+00  0.000000e+00  \n",
       "50%        6.000000   2006.000000  0.000000e+00  0.000000e+00  \n",
       "75%        6.600000   2011.000000  2.085325e+07  3.369710e+07  \n",
       "max        9.200000   2015.000000  4.250000e+08  2.827124e+09  "
      ]
     },
     "execution_count": 6,
     "metadata": {},
     "output_type": "execute_result"
    }
   ],
   "source": [
    "df.describe()"
   ]
  },
  {
   "cell_type": "markdown",
   "metadata": {},
   "source": [
    "<ul>\n",
    "    <li> The \"release_year\" is between **1960 and 2015**</li>\n",
    "    <li> The max value of \"runtime\" is **9000** (which makes 150 hours) - **The Story of Film: An Odyssey**</li>\n",
    "    <li> **At least 50%** of movies have a runtime between **90 - 111 minutes**\n",
    "</ul>"
   ]
  },
  {
   "cell_type": "code",
   "execution_count": 7,
   "metadata": {},
   "outputs": [
    {
     "data": {
      "text/html": [
       "<div>\n",
       "<style scoped>\n",
       "    .dataframe tbody tr th:only-of-type {\n",
       "        vertical-align: middle;\n",
       "    }\n",
       "\n",
       "    .dataframe tbody tr th {\n",
       "        vertical-align: top;\n",
       "    }\n",
       "\n",
       "    .dataframe thead th {\n",
       "        text-align: right;\n",
       "    }\n",
       "</style>\n",
       "<table border=\"1\" class=\"dataframe\">\n",
       "  <thead>\n",
       "    <tr style=\"text-align: right;\">\n",
       "      <th></th>\n",
       "      <th>popularity</th>\n",
       "      <th>budget</th>\n",
       "      <th>revenue</th>\n",
       "      <th>original_title</th>\n",
       "      <th>cast</th>\n",
       "      <th>homepage</th>\n",
       "      <th>director</th>\n",
       "      <th>tagline</th>\n",
       "      <th>keywords</th>\n",
       "      <th>overview</th>\n",
       "      <th>runtime</th>\n",
       "      <th>genres</th>\n",
       "      <th>production_companies</th>\n",
       "      <th>release_date</th>\n",
       "      <th>vote_count</th>\n",
       "      <th>vote_average</th>\n",
       "      <th>release_year</th>\n",
       "      <th>budget_adj</th>\n",
       "      <th>revenue_adj</th>\n",
       "    </tr>\n",
       "  </thead>\n",
       "  <tbody>\n",
       "    <tr>\n",
       "      <th>3894</th>\n",
       "      <td>0.006925</td>\n",
       "      <td>0</td>\n",
       "      <td>0</td>\n",
       "      <td>The Story of Film: An Odyssey</td>\n",
       "      <td>Mark Cousins|Jean-Michel Frodon|Cari Beauchamp...</td>\n",
       "      <td>http://www.channel4.com/programmes/the-story-o...</td>\n",
       "      <td>Mark Cousins</td>\n",
       "      <td>NaN</td>\n",
       "      <td>cinema|nouvelle vague|hindi cinema|cinema novo...</td>\n",
       "      <td>The Story of Film: An Odyssey, written and dir...</td>\n",
       "      <td>900</td>\n",
       "      <td>Documentary</td>\n",
       "      <td>NaN</td>\n",
       "      <td>9/3/11</td>\n",
       "      <td>14</td>\n",
       "      <td>9.2</td>\n",
       "      <td>2011</td>\n",
       "      <td>0.0</td>\n",
       "      <td>0.0</td>\n",
       "    </tr>\n",
       "  </tbody>\n",
       "</table>\n",
       "</div>"
      ],
      "text/plain": [
       "      popularity  budget  revenue                 original_title  \\\n",
       "3894    0.006925       0        0  The Story of Film: An Odyssey   \n",
       "\n",
       "                                                   cast  \\\n",
       "3894  Mark Cousins|Jean-Michel Frodon|Cari Beauchamp...   \n",
       "\n",
       "                                               homepage      director tagline  \\\n",
       "3894  http://www.channel4.com/programmes/the-story-o...  Mark Cousins     NaN   \n",
       "\n",
       "                                               keywords  \\\n",
       "3894  cinema|nouvelle vague|hindi cinema|cinema novo...   \n",
       "\n",
       "                                               overview  runtime       genres  \\\n",
       "3894  The Story of Film: An Odyssey, written and dir...      900  Documentary   \n",
       "\n",
       "     production_companies release_date  vote_count  vote_average  \\\n",
       "3894                  NaN       9/3/11          14           9.2   \n",
       "\n",
       "      release_year  budget_adj  revenue_adj  \n",
       "3894          2011         0.0          0.0  "
      ]
     },
     "execution_count": 7,
     "metadata": {},
     "output_type": "execute_result"
    }
   ],
   "source": [
    "# the movie having 900 of runtime\n",
    "df[df.runtime == 900]"
   ]
  },
  {
   "cell_type": "markdown",
   "metadata": {},
   "source": [
    "\n",
    "\n",
    "### Data Cleaning (Replace this with more specific notes!)"
   ]
  },
  {
   "cell_type": "markdown",
   "metadata": {},
   "source": [
    "<ul>\n",
    "    <li>According to \"info\" command result; there is no NULL values for numerical fields.</li>\n",
    "    <li>NULL values exist only on string fields (shown as object): cast, homepage, director, tagline, keywords, overview, genres, production_companies</li>\n",
    "    <li>At first, I will clean these NULL values with proper values</li>\n",
    "</ul>\n",
    "    "
   ]
  },
  {
   "cell_type": "code",
   "execution_count": 4,
   "metadata": {
    "collapsed": true
   },
   "outputs": [],
   "source": [
    "# Filling null fields\n",
    "\n",
    "df[\"cast\"].fillna('No cast info available',inplace=True)\n",
    "df[\"homepage\"].fillna('No webpage available',inplace=True)\n",
    "df[\"director\"].fillna('No director info available',inplace=True)\n",
    "df[\"tagline\"].fillna('No tagline info available',inplace=True)\n",
    "df[\"keywords\"].fillna('No keywords defined',inplace=True)\n",
    "df[\"overview\"].fillna('No overview available',inplace=True)\n",
    "df[\"genres\"].fillna('No genres defined',inplace=True)\n",
    "df[\"production_companies\"].fillna('No production company available',inplace=True)"
   ]
  },
  {
   "cell_type": "code",
   "execution_count": 10,
   "metadata": {},
   "outputs": [
    {
     "name": "stdout",
     "output_type": "stream",
     "text": [
      "<class 'pandas.core.frame.DataFrame'>\n",
      "RangeIndex: 10866 entries, 0 to 10865\n",
      "Data columns (total 19 columns):\n",
      "popularity              10866 non-null float64\n",
      "budget                  10866 non-null int64\n",
      "revenue                 10866 non-null int64\n",
      "original_title          10866 non-null object\n",
      "cast                    10866 non-null object\n",
      "homepage                10866 non-null object\n",
      "director                10866 non-null object\n",
      "tagline                 10866 non-null object\n",
      "keywords                10866 non-null object\n",
      "overview                10866 non-null object\n",
      "runtime                 10866 non-null int64\n",
      "genres                  10866 non-null object\n",
      "production_companies    10866 non-null object\n",
      "release_date            10866 non-null object\n",
      "vote_count              10866 non-null int64\n",
      "vote_average            10866 non-null float64\n",
      "release_year            10866 non-null int64\n",
      "budget_adj              10866 non-null float64\n",
      "revenue_adj             10866 non-null float64\n",
      "dtypes: float64(4), int64(5), object(10)\n",
      "memory usage: 1.6+ MB\n"
     ]
    }
   ],
   "source": [
    "df.info()"
   ]
  },
  {
   "cell_type": "markdown",
   "metadata": {},
   "source": [
    "<ul>\n",
    "    <li>Now, I will find if there is any duplicated record.</li>\n",
    "    <li>If there is any duplicated record, I will remove them</li>\n",
    "</ul>"
   ]
  },
  {
   "cell_type": "code",
   "execution_count": 11,
   "metadata": {},
   "outputs": [
    {
     "data": {
      "text/html": [
       "<div>\n",
       "<style scoped>\n",
       "    .dataframe tbody tr th:only-of-type {\n",
       "        vertical-align: middle;\n",
       "    }\n",
       "\n",
       "    .dataframe tbody tr th {\n",
       "        vertical-align: top;\n",
       "    }\n",
       "\n",
       "    .dataframe thead th {\n",
       "        text-align: right;\n",
       "    }\n",
       "</style>\n",
       "<table border=\"1\" class=\"dataframe\">\n",
       "  <thead>\n",
       "    <tr style=\"text-align: right;\">\n",
       "      <th></th>\n",
       "      <th>popularity</th>\n",
       "      <th>budget</th>\n",
       "      <th>revenue</th>\n",
       "      <th>original_title</th>\n",
       "      <th>cast</th>\n",
       "      <th>homepage</th>\n",
       "      <th>director</th>\n",
       "      <th>tagline</th>\n",
       "      <th>keywords</th>\n",
       "      <th>overview</th>\n",
       "      <th>runtime</th>\n",
       "      <th>genres</th>\n",
       "      <th>production_companies</th>\n",
       "      <th>release_date</th>\n",
       "      <th>vote_count</th>\n",
       "      <th>vote_average</th>\n",
       "      <th>release_year</th>\n",
       "      <th>budget_adj</th>\n",
       "      <th>revenue_adj</th>\n",
       "    </tr>\n",
       "  </thead>\n",
       "  <tbody>\n",
       "    <tr>\n",
       "      <th>2090</th>\n",
       "      <td>0.59643</td>\n",
       "      <td>30000000</td>\n",
       "      <td>967000</td>\n",
       "      <td>TEKKEN</td>\n",
       "      <td>Jon Foo|Kelly Overton|Cary-Hiroyuki Tagawa|Ian...</td>\n",
       "      <td>No webpage available</td>\n",
       "      <td>Dwight H. Little</td>\n",
       "      <td>Survival is no game</td>\n",
       "      <td>martial arts|dystopia|based on video game|mart...</td>\n",
       "      <td>In the year of 2039, after World Wars destroy ...</td>\n",
       "      <td>92</td>\n",
       "      <td>Crime|Drama|Action|Thriller|Science Fiction</td>\n",
       "      <td>Namco|Light Song Films</td>\n",
       "      <td>3/20/10</td>\n",
       "      <td>110</td>\n",
       "      <td>5.0</td>\n",
       "      <td>2010</td>\n",
       "      <td>30000000.0</td>\n",
       "      <td>967000.0</td>\n",
       "    </tr>\n",
       "  </tbody>\n",
       "</table>\n",
       "</div>"
      ],
      "text/plain": [
       "      popularity    budget  revenue original_title  \\\n",
       "2090     0.59643  30000000   967000         TEKKEN   \n",
       "\n",
       "                                                   cast              homepage  \\\n",
       "2090  Jon Foo|Kelly Overton|Cary-Hiroyuki Tagawa|Ian...  No webpage available   \n",
       "\n",
       "              director              tagline  \\\n",
       "2090  Dwight H. Little  Survival is no game   \n",
       "\n",
       "                                               keywords  \\\n",
       "2090  martial arts|dystopia|based on video game|mart...   \n",
       "\n",
       "                                               overview  runtime  \\\n",
       "2090  In the year of 2039, after World Wars destroy ...       92   \n",
       "\n",
       "                                           genres    production_companies  \\\n",
       "2090  Crime|Drama|Action|Thriller|Science Fiction  Namco|Light Song Films   \n",
       "\n",
       "     release_date  vote_count  vote_average  release_year  budget_adj  \\\n",
       "2090      3/20/10         110           5.0          2010  30000000.0   \n",
       "\n",
       "      revenue_adj  \n",
       "2090     967000.0  "
      ]
     },
     "execution_count": 11,
     "metadata": {},
     "output_type": "execute_result"
    }
   ],
   "source": [
    "# Find any duplicated record\n",
    "\n",
    "df[df.duplicated() == True]"
   ]
  },
  {
   "cell_type": "code",
   "execution_count": 5,
   "metadata": {
    "collapsed": true
   },
   "outputs": [],
   "source": [
    "# drop duplicates\n",
    "df.drop_duplicates(inplace = True)"
   ]
  },
  {
   "cell_type": "code",
   "execution_count": 13,
   "metadata": {},
   "outputs": [
    {
     "data": {
      "text/plain": [
       "0"
      ]
     },
     "execution_count": 13,
     "metadata": {},
     "output_type": "execute_result"
    }
   ],
   "source": [
    "# confirm removal of duplicated record\n",
    "sum(df.duplicated())"
   ]
  },
  {
   "cell_type": "markdown",
   "metadata": {},
   "source": [
    "<a id='eda'></a>\n",
    "## Exploratory Data Analysis\n",
    "\n",
    "Before starting research questions, I will show some basic explorations with visualization."
   ]
  },
  {
   "cell_type": "code",
   "execution_count": 4,
   "metadata": {},
   "outputs": [
    {
     "ename": "NameError",
     "evalue": "name 'pd' is not defined",
     "output_type": "error",
     "traceback": [
      "\u001b[1;31m---------------------------------------------------------------------------\u001b[0m",
      "\u001b[1;31mNameError\u001b[0m                                 Traceback (most recent call last)",
      "\u001b[1;32m<ipython-input-4-4d964b2e712a>\u001b[0m in \u001b[0;36m<module>\u001b[1;34m()\u001b[0m\n\u001b[0;32m      4\u001b[0m \u001b[0mplt2\u001b[0m\u001b[1;33m.\u001b[0m\u001b[0mfigure\u001b[0m\u001b[1;33m(\u001b[0m\u001b[0mfigsize\u001b[0m\u001b[1;33m=\u001b[0m\u001b[1;33m(\u001b[0m\u001b[1;36m12\u001b[0m\u001b[1;33m,\u001b[0m\u001b[1;36m5\u001b[0m\u001b[1;33m)\u001b[0m\u001b[1;33m)\u001b[0m\u001b[1;33m\u001b[0m\u001b[0m\n\u001b[0;32m      5\u001b[0m \u001b[1;33m\u001b[0m\u001b[0m\n\u001b[1;32m----> 6\u001b[1;33m \u001b[0mdfvisual\u001b[0m \u001b[1;33m=\u001b[0m \u001b[0mpd\u001b[0m\u001b[1;33m.\u001b[0m\u001b[0mDataFrame\u001b[0m\u001b[1;33m(\u001b[0m\u001b[0mdf\u001b[0m\u001b[1;33m[\u001b[0m\u001b[1;34m'release_year'\u001b[0m\u001b[1;33m]\u001b[0m\u001b[1;33m)\u001b[0m\u001b[1;33m\u001b[0m\u001b[0m\n\u001b[0m\u001b[0;32m      7\u001b[0m \u001b[0mplt2\u001b[0m\u001b[1;33m.\u001b[0m\u001b[0mylabel\u001b[0m\u001b[1;33m(\u001b[0m\u001b[1;34m'Count of Movies'\u001b[0m\u001b[1;33m)\u001b[0m\u001b[1;33m\u001b[0m\u001b[0m\n\u001b[0;32m      8\u001b[0m \u001b[0mplt2\u001b[0m\u001b[1;33m.\u001b[0m\u001b[0mxlabel\u001b[0m\u001b[1;33m(\u001b[0m\u001b[1;34m'Release Years'\u001b[0m\u001b[1;33m)\u001b[0m\u001b[1;33m\u001b[0m\u001b[0m\n",
      "\u001b[1;31mNameError\u001b[0m: name 'pd' is not defined"
     ]
    }
   ],
   "source": [
    "#The histogram for release year (distribution of movies on years)\n",
    "import matplotlib.pyplot as plt2\n",
    "\n",
    "plt2.figure(figsize=(12,5))\n",
    "\n",
    "dfvisual = pd.DataFrame(df['release_year'])\n",
    "plt2.ylabel('Count of Movies')\n",
    "plt2.xlabel('Release Years')\n",
    "plt2.title('Count of Movies by years')\n",
    "plt2.xticks(rotation=90)\n",
    "plt2.hist(dfvisual, bins=80)"
   ]
  },
  {
   "cell_type": "code",
   "execution_count": 41,
   "metadata": {},
   "outputs": [
    {
     "data": {
      "text/plain": [
       "<matplotlib.axes._subplots.AxesSubplot at 0x114ef9978>"
      ]
     },
     "execution_count": 41,
     "metadata": {},
     "output_type": "execute_result"
    },
    {
     "data": {
      "image/png": "[encoded data removed]",
      "text/plain": [
       "<matplotlib.figure.Figure at 0x116b31b70>"
      ]
     },
     "metadata": {},
     "output_type": "display_data"
    }
   ],
   "source": [
    "# yearly average of votes\n",
    "dfyearvote = pd.DataFrame({'release' : df['release_year'] , 'vote' : df['vote_average']})\n",
    "plt.figure(figsize=(10, 12))\n",
    "plt.xlabel('Vote Average')\n",
    "plt.ylabel('Release Years')\n",
    "plt.title('Average Votes by Release Years')\n",
    "dfyearvote.groupby('release')['vote'].mean().plot(kind=\"barh\", grid=True)"
   ]
  },
  {
   "cell_type": "markdown",
   "metadata": {},
   "source": [
    "### Research Question 1 - Which actor/actress has played at most?\n",
    "<ul>\n",
    "    <li>\"cast\" field includes all the actors (or major ones) seperated by \"|\"</li>\n",
    "    <li>With the code below, I have splitted all actors and pushed them into an array one by one</li>\n",
    "    <li>When finished, I have deduplicated all records into unique ones with corresponding count values</li>\n",
    "    <li>The result shows that **Robert De Niro** is the actor played in movies at most</li>\n",
    "    <li>The records as \"No cast info available\" are the ones with cast field empty, so they are not taken into account</li>\n",
    "</ul>\n"
   ]
  },
  {
   "cell_type": "code",
   "execution_count": 81,
   "metadata": {},
   "outputs": [
    {
     "name": "stdout",
     "output_type": "stream",
     "text": [
      "(52644,)\n",
      "19027\n",
      "('No cast info available', 76)\n",
      "('Robert De Niro', 72)\n",
      "('Samuel L. Jackson', 71)\n",
      "('Bruce Willis', 62)\n",
      "('Nicolas Cage', 61)\n"
     ]
    }
   ],
   "source": [
    "import numpy as np\n",
    "\n",
    "dfcastlist = []\n",
    "castdict ={}\n",
    "\n",
    "# each records' \"cast\" field is splitted by \"|\" and appended into numpy array\n",
    "for i in range(0, len(df)):\n",
    "    dfcastlist = np.append(dfcastlist, df.iloc[i][\"cast\"].split(\"|\"))\n",
    "\n",
    "# showing total number of splitted cast records\n",
    "print(dfcastlist.shape)\n",
    "\n",
    "# the array is deduplicated and counted by each unique cast\n",
    "unique, counts = np.unique(dfcastlist, return_counts=True)\n",
    "\n",
    "# create a dictionary with final tuples, showing the deduplicated count of cast\n",
    "castdict = dict(zip(unique, counts))\n",
    "print(len(castdict))\n",
    "\n",
    "# the dictionary is reversely sorted to get actors/actress played most at the beginning\n",
    "castdict = sorted(castdict.items(), key=lambda x:x[1], reverse=True)\n",
    "\n",
    "for i in range(0,5):\n",
    "    print(castdict[i])"
   ]
  },
  {
   "cell_type": "code",
   "execution_count": 30,
   "metadata": {},
   "outputs": [
    {
     "data": {
      "text/plain": [
       "No cast info available    76\n",
       "Robert De Niro            72\n",
       "Samuel L. Jackson         71\n",
       "Bruce Willis              62\n",
       "Nicolas Cage              61\n",
       "Michael Caine             53\n",
       "Robin Williams            51\n",
       "John Cusack               50\n",
       "John Goodman              49\n",
       "Morgan Freeman            49\n",
       "Susan Sarandon            48\n",
       "Liam Neeson               48\n",
       "Alec Baldwin              47\n",
       "Julianne Moore            47\n",
       "Gene Hackman              46\n",
       "Christopher Walken        46\n",
       "Tom Hanks                 46\n",
       "Johnny Depp               46\n",
       "Willem Dafoe              45\n",
       "Dennis Quaid              45\n",
       "Sylvester Stallone        45\n",
       "Meryl Streep              44\n",
       "Ed Harris                 44\n",
       "Clint Eastwood            44\n",
       "Donald Sutherland         44\n",
       "Woody Harrelson           43\n",
       "Robert Downey Jr.         43\n",
       "Keanu Reeves              43\n",
       "Antonio Banderas          43\n",
       "Ewan McGregor             43\n",
       "                          ..\n",
       "Richard Dean Anderson      1\n",
       "Jessica Brooks Grant       1\n",
       "Jessica Bowman             1\n",
       "Richard Dempsey            1\n",
       "Jessica Barth              1\n",
       "Jessica Guadix             1\n",
       "Richard DeDomenico         1\n",
       "Jessica Heap               1\n",
       "Jessica McNamee            1\n",
       "Richard Brooker            1\n",
       "Richard Brooks             1\n",
       "Richard Cabral             1\n",
       "Richard Carlson            1\n",
       "Richard Carrier            1\n",
       "Jessica Rothe              1\n",
       "Jessica Raine              1\n",
       "Richard Chaim              1\n",
       "Jessica Parker Kennedy     1\n",
       "Jessica Mauboy             1\n",
       "Richard Dawson             1\n",
       "Jessica Marais             1\n",
       "Jessica Manuel             1\n",
       "Richard Clarkin            1\n",
       "Richard Conte              1\n",
       "Richard Cox                1\n",
       "Jessica Lemon              1\n",
       "Richard Davison            1\n",
       "Jessica Hynes              1\n",
       "Jessica Hinves             1\n",
       "é‚±æ·‘è²ž                  1\n",
       "Length: 19027, dtype: int64"
      ]
     },
     "execution_count": 30,
     "metadata": {},
     "output_type": "execute_result"
    }
   ],
   "source": [
    "#an alternative way to find the actor/actress played most is as below\n",
    "\n",
    "df[\"cast\"].str.get_dummies(sep=\"|\").sum().sort_values(ascending=False)"
   ]
  },
  {
   "cell_type": "markdown",
   "metadata": {},
   "source": [
    "### Research Question 2  - Which actors/actress has played at which year most?\n",
    "<ul>\n",
    "    <li>\"cast\" field includes all the actors (or major ones) seperated by \"|\"</li>\n",
    "    <li>With the code below, I have splitted all actors, appended the release year of the movie and pushed them into an array one by one</li>\n",
    "    <li>When finished, I have deduplicated all records into unique ones with corresponding count values</li>\n",
    "    <li>The result shows that **James Franco** is the actor played in movies at most **in 2013**. He is the actor who played most in the movies at a single year</li>\n",
    "    <li>The records as \"No cast info available\" are the ones with cast field empty, so they are not taken into account</li>\n",
    "</ul>"
   ]
  },
  {
   "cell_type": "code",
   "execution_count": 87,
   "metadata": {},
   "outputs": [
    {
     "name": "stdout",
     "output_type": "stream",
     "text": [
      "(52568,)\n",
      "44408\n",
      "('James Franco@2013', 10)\n",
      "('Dominic Purcell@2013', 7)\n",
      "('Jessica Chastain@2014', 7)\n",
      "('Justin Long@2009', 7)\n",
      "('Liam Neeson@2014', 7)\n"
     ]
    }
   ],
   "source": [
    "import numpy as np\n",
    "\n",
    "dfcastlist = []\n",
    "dfcastrecord = []\n",
    "castdict ={}\n",
    "\n",
    "# each records' \"cast\" field is splitted by \"|\", extended with \"release year\" parameter and appended into numpy array\n",
    "for i in range(0, len(df)):\n",
    "    dfcastrecord = df.iloc[i][\"cast\"].split(\"|\")\n",
    "    if dfcastrecord[0] == \"No cast info available\": # these records are not appended to the final array\n",
    "        continue\n",
    "    dfcastrecord = [x + \"@\" + str(df.iloc[i][\"release_year\"]) for x in dfcastrecord]\n",
    "    dfcastlist = np.append(dfcastlist, dfcastrecord)\n",
    "\n",
    "# showing total number of splitted cast records\n",
    "print(dfcastlist.shape)\n",
    "\n",
    "# the array is deduplicated and counted by each unique cast\n",
    "unique, counts = np.unique(dfcastlist, return_counts=True)\n",
    "\n",
    "# create a dictionary with final tuples, showing the deduplicated count of cast\n",
    "castdict = dict(zip(unique, counts))\n",
    "print(len(castdict))\n",
    "\n",
    "# the dictionary is reversely sorted to get actors/actress played most at a single year at the beginning\n",
    "castdict = sorted(castdict.items(), key=lambda x:x[1], reverse=True)\n",
    "\n",
    "for i in range(0,5):\n",
    "    print(castdict[i])\n"
   ]
  },
  {
   "cell_type": "markdown",
   "metadata": {},
   "source": [
    "### Research Question 3  - Which actor/actress has worked with which director at most?\n",
    "<ul>\n",
    "    <li>\"cast\" field includes all the actors (or major ones) seperated by \"|\"</li>\n",
    "    <li>With the code below, I have splitted all actors, appended the director of the movie and pushed them into an array one by one</li>\n",
    "    <li>When finished, I have deduplicated all records into unique ones with corresponding count values</li>\n",
    "    <li>The result shows that **35** actors/actress have worked with same director in their career</li>\n",
    "    <li>The records as \"No cast info available\" are the ones with cast field empty, so they are not taken into account</li>\n",
    "</ul>"
   ]
  },
  {
   "cell_type": "code",
   "execution_count": 91,
   "metadata": {},
   "outputs": [
    {
     "name": "stdout",
     "output_type": "stream",
     "text": [
      "(4817,)\n",
      "4782\n",
      "('Adam Johnson@Anne K. Black', 2)\n",
      "('Adam Sandler@Frank Coraci', 2)\n",
      "('Amanda Seyfried@Seth MacFarlane', 2)\n",
      "('Bill Nighy@David Hare', 2)\n",
      "('Bruce Willis@Brian A Miller', 2)\n",
      "('Chris Diamantopoulos@Butch Lukic', 2)\n",
      "('Danny Glover@Craig Moss', 2)\n",
      "('Danny Trejo@Craig Moss', 2)\n",
      "(\"Dylan O'Brien@Wes Ball\", 2)\n",
      "('Emma Stone@Woody Allen', 2)\n",
      "('Helena Bonham Carter@David Hare', 2)\n",
      "('Ian Ziering@Anthony C. Ferrante', 2)\n",
      "('Israel Luna@Israel Luna', 2)\n",
      "('Jake Stormoen@Anne K. Black', 2)\n",
      "('James McAvoy@Ned Benson', 2)\n",
      "('Jennifer Lawrence@Francis Lawrence', 2)\n",
      "('Jessica Chastain@Ned Benson', 2)\n",
      "('Josh Hutcherson@Francis Lawrence', 2)\n",
      "('Kate Bosworth@Michael Polish', 2)\n",
      "('Kaya Scodelario@Wes Ball', 2)\n",
      "('Kelly Sheridan@Karen J. Lloyd', 2)\n",
      "('Kevin Hart@Tim Story', 2)\n",
      "('Kevin Sorbo@Anne K. Black', 2)\n",
      "('Liam Hemsworth@Francis Lawrence', 2)\n",
      "('Liam Neeson@Jaume Collet-Serra', 2)\n",
      "('Lorenza Izzo@Eli Roth', 2)\n",
      "('Melanie Stone@Anne K. Black', 2)\n",
      "('Ralph Fiennes@David Hare', 2)\n",
      "('Roger Craig Smith@Butch Lukic', 2)\n",
      "('Sean Astin@Andrew Erwin|Jon Erwin', 2)\n",
      "('Seth MacFarlane@Seth MacFarlane', 2)\n",
      "('Tara Reid@Anthony C. Ferrante', 2)\n",
      "('Terry Crews@Frank Coraci', 2)\n",
      "('Viola Davis@Ned Benson', 2)\n",
      "('Woody Harrelson@Francis Lawrence', 2)\n",
      "('50 Cent@Antoine Fuqua', 1)\n",
      "('AJ Bowen@Jacob Gentry', 1)\n",
      "('Aaron Ashmore@Alejandro AmenÃ¡bar', 1)\n",
      "('Aaron Burns@Eli Roth', 1)\n",
      "('Aaron Burns@Guillermo Amoedo', 1)\n"
     ]
    }
   ],
   "source": [
    "import numpy as np\n",
    "\n",
    "dfcastlist = []\n",
    "dfcastrecord = []\n",
    "castdict ={}\n",
    "\n",
    "# each records' \"cast\" field is splitted by \"|\", extended with \"director\" parameter and appended into numpy array\n",
    "for i in range(0, 1000):#len(df)):\n",
    "    dfcastrecord = df.iloc[i][\"cast\"].split(\"|\")\n",
    "    if dfcastrecord[0] == \"No cast info available\": # these records are not appended to the final array\n",
    "        continue\n",
    "    dfcastrecord = [x + \"@\" + df.iloc[i][\"director\"] for x in dfcastrecord]\n",
    "    dfcastlist = np.append(dfcastlist, dfcastrecord)\n",
    "\n",
    "# showing total number of splitted cast records\n",
    "print(dfcastlist.shape)\n",
    "\n",
    "# the array is deduplicated and counted by each unique cast\n",
    "unique, counts = np.unique(dfcastlist, return_counts=True)\n",
    "\n",
    "# create a dictionary with final tuples, showing the deduplicated count of cast\n",
    "castdict = dict(zip(unique, counts))\n",
    "print(len(castdict))\n",
    "\n",
    "# the dictionary is reversely sorted to get actors/actress played most with a single director\n",
    "castdict = sorted(castdict.items(), key=lambda x:x[1], reverse=True)\n",
    "\n",
    "for i in range(0,40):\n",
    "    print(castdict[i])"
   ]
  },
  {
   "cell_type": "markdown",
   "metadata": {},
   "source": [
    "### Research Question 4  - Which year has most of the productions?\n",
    "<ul>\n",
    "    <li>The release years are made unique and pushed into a dictionary</li>\n",
    "    <li>The result shows that **2014** is the year of most productions</li>\n",
    "</ul>"
   ]
  },
  {
   "cell_type": "code",
   "execution_count": 94,
   "metadata": {},
   "outputs": [
    {
     "name": "stdout",
     "output_type": "stream",
     "text": [
      "56\n",
      "(2014, 700)\n",
      "(2013, 659)\n",
      "(2015, 629)\n",
      "(2012, 588)\n",
      "(2011, 540)\n",
      "(2009, 533)\n",
      "(2008, 496)\n",
      "(2010, 489)\n",
      "(2007, 438)\n",
      "(2006, 408)\n",
      "(2005, 364)\n",
      "(2004, 307)\n",
      "(2003, 281)\n",
      "(2002, 266)\n",
      "(2001, 242)\n",
      "(2000, 227)\n",
      "(1999, 224)\n",
      "(1998, 210)\n",
      "(1996, 204)\n",
      "(1997, 192)\n",
      "(1994, 184)\n",
      "(1993, 178)\n",
      "(1995, 175)\n",
      "(1988, 145)\n",
      "(1989, 137)\n",
      "(1991, 133)\n",
      "(1992, 133)\n",
      "(1990, 132)\n",
      "(1987, 125)\n",
      "(1986, 121)\n",
      "(1985, 109)\n",
      "(1984, 105)\n",
      "(1981, 82)\n",
      "(1982, 81)\n",
      "(1983, 80)\n",
      "(1980, 78)\n",
      "(1978, 65)\n",
      "(1977, 57)\n",
      "(1979, 57)\n",
      "(1971, 55)\n",
      "(1973, 55)\n",
      "(1974, 47)\n",
      "(1976, 47)\n",
      "(1966, 46)\n",
      "(1975, 44)\n",
      "(1964, 42)\n",
      "(1970, 41)\n",
      "(1967, 40)\n",
      "(1972, 40)\n",
      "(1968, 39)\n",
      "(1965, 35)\n",
      "(1963, 34)\n",
      "(1960, 32)\n",
      "(1962, 32)\n",
      "(1961, 31)\n",
      "(1969, 31)\n"
     ]
    }
   ],
   "source": [
    "import numpy as np\n",
    "\n",
    "# by using making unique feature of numpy arrays, the tuples of unique year-count have created and pushed into a dictionary\n",
    "year, counter = np.unique(df[\"release_year\"], return_counts=True)\n",
    "yeardict = dict(zip(year,counter))\n",
    "\n",
    "# related dictionary is sorted from higher to lower\n",
    "print(len(yeardict)) # shows how many years in the dictionary\n",
    "yeardict = sorted(yeardict.items(), key=lambda x:x[1], reverse=True)\n",
    "\n",
    "for i in range(0,len(yeardict)):\n",
    "    print(yeardict[i])\n"
   ]
  },
  {
   "cell_type": "markdown",
   "metadata": {},
   "source": [
    "### Research Question 5  - Which genres have higher votes?\n",
    "<ul>\n",
    "    <li>In this research, my aim is to find average vote by means of genres</li>\n",
    "    <li>First, I have splitted \"genre\" field by \"|\"</li>\n",
    "    <li>Then, I have added \"vote_average\" value to each genre record and appended into a 2d list.</li>\n",
    "    <li>From list, I have created a dataframe with 2 columns</li>\n",
    "    <li>By using dataframe functions, I have received mean of votes by grouping genres</li>\n",
    "    <li>The result shows that **Documentary** genre has the highest vote average among other genres according to given votes average per movie</li>\n",
    "</ul>"
   ]
  },
  {
   "cell_type": "code",
   "execution_count": 32,
   "metadata": {},
   "outputs": [
    {
     "data": {
      "text/plain": [
       "<matplotlib.axes._subplots.AxesSubplot at 0x11736aac8>"
      ]
     },
     "execution_count": 32,
     "metadata": {},
     "output_type": "execute_result"
    },
    {
     "data": {
      "image/png": "[encoded data removed]",
      "text/plain": [
       "<matplotlib.figure.Figure at 0x116a870b8>"
      ]
     },
     "metadata": {},
     "output_type": "display_data"
    }
   ],
   "source": [
    "import pandas as pd\n",
    "\n",
    "dfgenrelist = []\n",
    "dfcastrecord = []\n",
    "\n",
    "# each records' \"genre\" field is splitted by \"|\"\n",
    "for i in range(0, len(df)):\n",
    "    dfgenrerecord = df.iloc[i][\"genres\"].split(\"|\")\n",
    "    if dfgenrerecord[0] == \"No genres defined\": # these records are not appended to the final array\n",
    "        continue\n",
    "    \n",
    "    # each genre record record is extended with vote_average value and appended to a 2d list\n",
    "    for x in range(0,len(dfgenrerecord)):\n",
    "        dfgenrelist.append([dfgenrerecord[x],df.iloc[i][\"vote_average\"]])\n",
    "\n",
    "# 2d list is added to a dataframe\n",
    "dfgenres = pd.DataFrame(dfgenrelist,columns=['genres','vote'])\n",
    "\n",
    "# dataframe is grouped by genres to find mean of all votes and returned top 3 \n",
    "dfgenres.groupby('genres')['vote'].mean().nlargest(3)\n",
    "plt.xlabel('Genres')\n",
    "plt.ylabel('Vote Average')\n",
    "plt.title('Genres and Votes')\n",
    "dfgenres.groupby('genres')['vote'].mean().plot(kind='bar')"
   ]
  },
  {
   "cell_type": "markdown",
   "metadata": {},
   "source": [
    "<ul>\n",
    "    <li>Above graph shows highest average as \"Documentary\" - at below graph it shows that \"Documentary\" has around 500 genre selection on all movies</li>\n",
    "</ul>"
   ]
  },
  {
   "cell_type": "code",
   "execution_count": 33,
   "metadata": {},
   "outputs": [
    {
     "data": {
      "text/plain": [
       "<matplotlib.axes._subplots.AxesSubplot at 0x116ced710>"
      ]
     },
     "execution_count": 33,
     "metadata": {},
     "output_type": "execute_result"
    },
    {
     "data": {
      "image/png": "[encoded data removed]",
      "text/plain": [
       "<matplotlib.figure.Figure at 0x116ce6cf8>"
      ]
     },
     "metadata": {},
     "output_type": "display_data"
    }
   ],
   "source": [
    "#pd.value_counts(dfgenres['genres']).nlargest(20) -- find the count of genres which are subject to mean operation\n",
    "\n",
    "plt.xlabel('Genres')\n",
    "plt.ylabel('Count of Genres')\n",
    "plt.title('Total Count of Genres')\n",
    "dfgenres['genres'].value_counts().plot(kind='bar')"
   ]
  },
  {
   "cell_type": "markdown",
   "metadata": {},
   "source": [
    "<a id='conclusions'></a>\n",
    "## Conclusions\n",
    "\n",
    "<ul>\n",
    "    <li>As far as I see, the data set is pretty clear to get some insights</li>\n",
    "    <li>There are some columns with missing values - these columns were used during explorations\n",
    "        <ul>\n",
    "            <li>\"cast\" field has 76 NULLs. Among 10K rows, I have supposed that as negligible. I have filled those fields as \"No cast info is available\"</li>\n",
    "            <li>\"genres\" field has 23 NULLs. Among 10K rows, I have also supposed that as negligible. I have filled those fields as \"No genres defined\"</li>\n",
    "        </ul>\n",
    "    </li>\n",
    "    <li>First, by year 2000 there are too many movies released</li>\n",
    "    <li>There are many directors and actors/actresses so it is rare to see recurring work in the same project/movie</li>\n",
    "    <li>At James Franco case, having role at 10 different movies at a single year is a challenging situation when compared to other actors/actresses having more movies played at total</li>\n",
    "    <li>At Robert De Niro case, it is not so surprising - expected according to professional career (years)</li>\n",
    "    <li>For documentary genre, there are approximately 5% movies selected as documentary genre and the voters have voted higher generally.</li>\n",
    "    <li>For deeper insights, some additional researchs could be interesting on this data set such as:\n",
    "        <ul>\n",
    "            <li>actors/actresses by active years</li>\n",
    "            <li>average budgets per genres</li>\n",
    "            <li>genres by active years</li>\n",
    "        </ul>\n",
    "    </li>\n",
    "    <li>Without statistical test, the analysis would be made according to raw data and assumptions in general. So in order to be accurate, the statistical methods should be applied.</li>\n",
    "</ul>"
   ]
  },
  {
   "cell_type": "code",
   "execution_count": 39,
   "metadata": {},
   "outputs": [
    {
     "data": {
      "text/plain": [
       "No genres defined    23\n",
       "Name: genres, dtype: int64"
      ]
     },
     "execution_count": 39,
     "metadata": {},
     "output_type": "execute_result"
    }
   ],
   "source": [
    "df[df.cast == 'No cast info available'][\"cast\"].value_counts() --76\n",
    "df[df.genres == 'No genres defined'][\"genres\"].value_counts() --23"
   ]
  },
  {
   "cell_type": "code",
   "execution_count": 43,
   "metadata": {},
   "outputs": [
    {
     "data": {
      "text/plain": [
       "0"
      ]
     },
     "execution_count": 43,
     "metadata": {},
     "output_type": "execute_result"
    }
   ],
   "source": [
    "from subprocess import call\n",
    "call(['python', '-m', 'nbconvert', 'Investigate_a_Dataset_reviewed.ipynb'])"
   ]
  },
  {
   "cell_type": "code",
   "execution_count": null,
   "metadata": {
    "collapsed": true
   },
   "outputs": [],
   "source": []
  }
 ],
 "metadata": {
  "celltoolbar": "Raw Cell Format",
  "kernelspec": {
   "display_name": "Python 3",
   "language": "python",
   "name": "python3"
  },
  "language_info": {
   "codemirror_mode": {
    "name": "ipython",
    "version": 3
   },
   "file_extension": ".py",
   "mimetype": "text/x-python",
   "name": "python",
   "nbconvert_exporter": "python",
   "pygments_lexer": "ipython3",
   "version": "3.6.3"
  }
 },
 "nbformat": 4,
 "nbformat_minor": 2
}
