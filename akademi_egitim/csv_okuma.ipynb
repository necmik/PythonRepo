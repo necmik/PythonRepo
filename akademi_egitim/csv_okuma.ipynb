{
 "cells": [
  {
   "cell_type": "code",
   "execution_count": 73,
   "metadata": {},
   "outputs": [
    {
     "name": "stdout",
     "output_type": "stream",
     "text": [
      "Name     PN  SN\n",
      "KTPHR02  0   18          1.027\n",
      "             19     698686.913\n",
      "             22          5.352\n",
      "             23     110427.485\n",
      "         1   18          0.000\n",
      "             19          0.000\n",
      "             22          5.049\n",
      "             23    2090089.100\n",
      "KTPHR04  0   18     339989.019\n",
      "             19          1.027\n",
      "             22      53416.329\n",
      "             23          5.350\n",
      "         1   18          0.000\n",
      "             19          0.000\n",
      "             22    1035657.431\n",
      "             23          5.049\n",
      "KTPHR05  0   18     614012.281\n",
      "             19          1.027\n",
      "             22          5.338\n",
      "             23      96043.315\n",
      "         1   18          0.000\n",
      "             19          0.000\n",
      "             22          5.049\n",
      "             23    2219386.039\n",
      "KTPHR07  0   18     479813.146\n",
      "             19          1.138\n",
      "             22          5.339\n",
      "             23     125856.449\n",
      "         1   18          0.000\n",
      "             19          0.000\n",
      "             22          5.049\n",
      "             23    1139957.821\n",
      "Name: MAX, dtype: float64\n"
     ]
    }
   ],
   "source": [
    "import csv \n",
    "import pandas as pd\n",
    "\n",
    "file = open('D:/Dev/PythonWorkspace/akademi_egitim/FEGE-2.CSV')\n",
    "csvreader = csv.reader(file)\n",
    "next(csvreader)\n",
    "\n",
    "cols = ['Name','PN', 'SN', 'MAX']\n",
    "my_df  = pd.DataFrame(columns = cols)\n",
    "my_df.head()\n",
    "\n",
    "for line in csvreader:\n",
    "    splitted = str(line).split(',')\n",
    "    name = splitted[2]\n",
    "    pn = splitted[3][4:]\n",
    "    sn = splitted[4][4:]\n",
    "    maxs = float(splitted[6])\n",
    "    my_df.loc[len(my_df)] = [name, pn, sn, maxs]\n",
    "\n",
    "file.close()\n",
    "my_df.head()\n",
    "\n",
    "df_new = my_df.groupby(['Name', 'PN', 'SN'])['MAX'].max()\n",
    "print(df_new)"
   ]
  },
  {
   "cell_type": "code",
   "execution_count": 20,
   "metadata": {},
   "outputs": [
    {
     "ename": "AttributeError",
     "evalue": "'tuple' object has no attribute 'split'",
     "output_type": "error",
     "traceback": [
      "\u001b[1;31m---------------------------------------------------------------------------\u001b[0m",
      "\u001b[1;31mAttributeError\u001b[0m                            Traceback (most recent call last)",
      "\u001b[1;32m<ipython-input-20-a70c04407ae3>\u001b[0m in \u001b[0;36m<module>\u001b[1;34m()\u001b[0m\n\u001b[0;32m      1\u001b[0m \u001b[1;32mfor\u001b[0m \u001b[0mrow\u001b[0m \u001b[1;32min\u001b[0m \u001b[0mdf\u001b[0m\u001b[1;33m.\u001b[0m\u001b[0miterrows\u001b[0m\u001b[1;33m(\u001b[0m\u001b[1;33m)\u001b[0m\u001b[1;33m:\u001b[0m\u001b[1;33m\u001b[0m\u001b[0m\n\u001b[1;32m----> 2\u001b[1;33m     \u001b[0mstr\u001b[0m \u001b[1;33m=\u001b[0m \u001b[0mrow\u001b[0m\u001b[1;33m.\u001b[0m\u001b[0msplit\u001b[0m\u001b[1;33m(\u001b[0m\u001b[1;34m','\u001b[0m\u001b[1;33m)\u001b[0m\u001b[1;33m\u001b[0m\u001b[0m\n\u001b[0m\u001b[0;32m      3\u001b[0m     \u001b[0mprint\u001b[0m\u001b[1;33m(\u001b[0m\u001b[0mstr\u001b[0m\u001b[1;33m)\u001b[0m\u001b[1;33m\u001b[0m\u001b[0m\n",
      "\u001b[1;31mAttributeError\u001b[0m: 'tuple' object has no attribute 'split'"
     ]
    }
   ],
   "source": [
    "for row in df.iterrows():\n",
    "    str = row.split(',')\n",
    "    print(str)"
   ]
  },
  {
   "cell_type": "code",
   "execution_count": null,
   "metadata": {
    "collapsed": true
   },
   "outputs": [],
   "source": []
  }
 ],
 "metadata": {
  "kernelspec": {
   "display_name": "Python 3",
   "language": "python",
   "name": "python3"
  },
  "language_info": {
   "codemirror_mode": {
    "name": "ipython",
    "version": 3
   },
   "file_extension": ".py",
   "mimetype": "text/x-python",
   "name": "python",
   "nbconvert_exporter": "python",
   "pygments_lexer": "ipython3",
   "version": "3.6.3"
  }
 },
 "nbformat": 4,
 "nbformat_minor": 2
}
