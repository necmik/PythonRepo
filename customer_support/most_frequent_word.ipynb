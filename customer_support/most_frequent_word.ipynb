{
 "cells": [
  {
   "cell_type": "code",
   "execution_count": 8,
   "metadata": {},
   "outputs": [],
   "source": [
    "\"\"\"Quiz: Most Frequent Word\"\"\"\n",
    "\n",
    "def most_frequent(s):\n",
    "    \"\"\"Return the most frequently occuring word in s.\"\"\"\n",
    "    \n",
    "    # HINT: Use the built-in split() function to transform the string s into an\n",
    "    #       array\n",
    "    arr = s.split()\n",
    "    # HINT: Sort the new array by using the built-in sorted() function or\n",
    "    #       .sort() list method\n",
    "    arr.sort()\n",
    "    \n",
    "    # HINT: Iterate through the array and count each occurance of every word\n",
    "    #       using the .count() list method\n",
    "    \n",
    "    # HINT: Find the number of times the most common word appears using max()\n",
    "    \n",
    "    # HINT: Locate the index of the most frequently seen word\n",
    "    \n",
    "    # HINT: Return the most frequent word. Remember that if there is a tie,\n",
    "    #       return the first (tied) word in alphabetical order.\n",
    "    max = 0\n",
    "    result = \"\"\n",
    "    for str in arr:\n",
    "        occ = arr.count(str)\n",
    "        if occ>max:\n",
    "            max = occ\n",
    "            result = str\n",
    "    \n",
    "    return result\n",
    "\n",
    "\n",
    "def test_run():\n",
    "    \"\"\"Test most_frequent() with some inputs.\"\"\"\n",
    "    print(most_frequent(\"cat bat mat cat bat cat\")) # output: 'cat'\n",
    "    print(most_frequent(\"betty bought a bit of butter but the butter was bitter\")) # output: 'butter'"
   ]
  },
  {
   "cell_type": "code",
   "execution_count": 9,
   "metadata": {},
   "outputs": [
    {
     "name": "stdout",
     "output_type": "stream",
     "text": [
      "cat\n",
      "butter\n"
     ]
    }
   ],
   "source": [
    "test_run()"
   ]
  },
  {
   "cell_type": "code",
   "execution_count": null,
   "metadata": {
    "collapsed": true
   },
   "outputs": [],
   "source": []
  }
 ],
 "metadata": {
  "kernelspec": {
   "display_name": "Python 3",
   "language": "python",
   "name": "python3"
  },
  "language_info": {
   "codemirror_mode": {
    "name": "ipython",
    "version": 3
   },
   "file_extension": ".py",
   "mimetype": "text/x-python",
   "name": "python",
   "nbconvert_exporter": "python",
   "pygments_lexer": "ipython3",
   "version": "3.6.3"
  }
 },
 "nbformat": 4,
 "nbformat_minor": 2
}
